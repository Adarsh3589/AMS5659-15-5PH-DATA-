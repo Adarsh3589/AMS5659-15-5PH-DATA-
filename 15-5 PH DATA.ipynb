{
  "cells": [
    {
      "cell_type": "markdown",
      "metadata": {
        "id": "view-in-github",
        "colab_type": "text"
      },
      "source": [
        "<a href=\"https://colab.research.google.com/github/Adarsh3589/AMS5659-15-5PH-DATA-/blob/main/15-5%20PH%20DATA.ipynb\" target=\"_parent\"><img src=\"https://colab.research.google.com/assets/colab-badge.svg\" alt=\"Open In Colab\"/></a>"
      ]
    },
    {
      "cell_type": "code",
      "source": [
        "import os\n",
        "import zipfile\n",
        "import requests\n",
        "from io import BytesIO\n",
        "\n",
        "import numpy as np\n",
        "import pandas as pd\n",
        "import matplotlib.pyplot as plt\n",
        "import seaborn as sns\n",
        "\n",
        "from scipy.stats import norm, anderson\n",
        "\n",
        "from google.colab import files\n",
        "from IPython.display import display\n",
        "import ipywidgets as widgets\n",
        "\n",
        "\n",
        "# Step 1: Download the Excel file from GitHub\n",
        "url = \"https://raw.githubusercontent.com/Adarsh3589/AMS5659-15-5PH-DATA-/ae94dc3642843476b37acae8a9a468726a753ae4/Data%2015-5%20PH.xlsx\"\n",
        "\n",
        "response = requests.get(url)\n",
        "response.raise_for_status()\n",
        "excel_data = BytesIO(response.content)\n",
        "\n",
        "# Step 2: Load the second sheet\n",
        "df = pd.read_excel(excel_data, sheet_name=0, engine='openpyxl')\n",
        "\n",
        "# Create output directory\n",
        "os.makedirs(\"output\", exist_ok=True)"
      ],
      "metadata": {
        "id": "ZFcmu406rYXr"
      },
      "execution_count": null,
      "outputs": []
    },
    {
      "cell_type": "code",
      "source": [
        "# Cell 2: Drop rows with missing 'Condition' or 'HT Type'\n",
        "df.dropna(subset=['Condition', 'HT Type'], inplace=True)\n",
        "print(\"Rows after dropping NA in Condition or HT Type:\", df.shape)\n"
      ],
      "metadata": {
        "id": "LzfhWvPNrYx0"
      },
      "execution_count": null,
      "outputs": []
    },
    {
      "cell_type": "code",
      "source": [
        "import ipywidgets as widgets\n",
        "from IPython.display import display\n",
        "\n",
        "# === Step 1: Prepare dropdowns ===\n",
        "condition_dropdown = widgets.Dropdown(\n",
        "    options=sorted(df['Condition'].dropna().unique()),\n",
        "    description=\"Condition:\",\n",
        "    value=\"H1025\" if \"H1025\" in df['Condition'].values else None\n",
        ")\n",
        "\n",
        "size_options = [\"All\"] + sorted(df['Size'].dropna().unique())\n",
        "size_multiselect = widgets.SelectMultiple(\n",
        "    options=size_options,\n",
        "    value=(\"All\",),\n",
        "    description=\"Size:\"\n",
        ")\n",
        "\n",
        "# === Step 2: Container for filtered data ===\n",
        "filtered_data = {\"df\": None}  # Shared container across cells\n",
        "\n",
        "# === Step 3: Filtering logic ===\n",
        "def filter_df(condition_value, size_values):\n",
        "    filtered = df[df['Condition'] == condition_value]\n",
        "    filtered = filtered.sort_values(by=['ESR', 'Melting Date'])\n",
        "    if \"All\" not in size_values:\n",
        "        filtered = filtered[filtered['Size'].isin(size_values)]\n",
        "    return filtered\n",
        "\n",
        "# === Step 4: Callback to update and store filtered data ===\n",
        "def on_filter_change(change=None):\n",
        "    result = filter_df(condition_dropdown.value, size_multiselect.value)\n",
        "    filtered_data[\"df\"] = result\n",
        "    print(f\"Filtered shape: {result.shape}\")\n",
        "    display(result.head())\n",
        "\n",
        "# === Step 5: Bind widget event ===\n",
        "condition_dropdown.observe(on_filter_change, names='value')\n",
        "size_multiselect.observe(on_filter_change, names='value')\n",
        "\n",
        "# === Step 6: Display widgets ===\n",
        "display(widgets.VBox([condition_dropdown, size_multiselect]))\n",
        "\n",
        "# Run initial display\n",
        "on_filter_change()\n"
      ],
      "metadata": {
        "id": "7PqFUG0Krgw6"
      },
      "execution_count": null,
      "outputs": []
    },
    {
      "cell_type": "code",
      "source": [
        "filtered"
      ],
      "metadata": {
        "id": "b53Uvlcnro29"
      },
      "execution_count": null,
      "outputs": []
    },
    {
      "cell_type": "code",
      "source": [],
      "metadata": {
        "id": "eIq8DBrXtYSm"
      },
      "execution_count": null,
      "outputs": []
    }
  ],
  "metadata": {
    "colab": {
      "name": "Welcome To Colab",
      "provenance": [],
      "include_colab_link": true
    },
    "kernelspec": {
      "display_name": "Python 3",
      "name": "python3"
    }
  },
  "nbformat": 4,
  "nbformat_minor": 0
}